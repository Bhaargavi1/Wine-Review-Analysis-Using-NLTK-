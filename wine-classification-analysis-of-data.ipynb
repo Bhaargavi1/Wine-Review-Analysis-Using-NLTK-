{
 "cells": [
  {
   "cell_type": "markdown",
   "metadata": {
    "_uuid": "4aa88cb7b92c64fc79ca59e3125806fd8ba285df"
   },
   "source": [
    "## Text Classification using NLP for Various types of Wines -- Part1"
   ]
  },
  {
   "cell_type": "markdown",
   "metadata": {
    "_uuid": "56bdcf96a94c1ee4872f3f5b868846415c0ae94b"
   },
   "source": [
    "<p> This is the wine review dataset. And this part of then notebook is concerned with various parameters of analysing the reviews dataset. And plotting graphs and getting the basic understanding of the dataset .Then Next part will comprise of Making Word Clouds for this dataset. And then in the final part, I will be using NLTK for  Natural Language Processing and use various ML Techniques to find out the accuract of predictions for various algos and find out which is better.  </p>\n",
    "<h3> So lets get started </h3>"
   ]
  },
  {
   "cell_type": "markdown",
   "metadata": {
    "_uuid": "6b4df535f4467f0160f5eeadafe3d78dfd29388e"
   },
   "source": [
    "### Importing libraries and dataset"
   ]
  },
  {
   "cell_type": "code",
   "execution_count": null,
   "metadata": {
    "_uuid": "a5a9dff623587c0f27a85a236b11b2357734dae8"
   },
   "outputs": [],
   "source": [
    "import numpy as np\n",
    "import pandas as pd \n",
    "import matplotlib.pyplot as plt \n",
    "%matplotlib inline\n",
    "import nltk\n",
    "# Importing Natural language Processing toolkit.\n",
    "from PIL import Image\n",
    "# from python imaging library\n",
    "from wordcloud import WordCloud, STOPWORDS, ImageColorGenerator"
   ]
  },
  {
   "cell_type": "code",
   "execution_count": null,
   "metadata": {
    "_uuid": "16fc7b80d160b81cc895171df3bf85fa04cbc795"
   },
   "outputs": [],
   "source": [
    "wines = pd.read_csv(\"Dataset/winemag-data-130k-v2.csv\",index_col = 0)\n",
    "wines = wines.dropna(subset = ['points' , 'price'])\n",
    "print(wines.shape)\n",
    "wines.head(2)"
   ]
  },
  {
   "cell_type": "markdown",
   "metadata": {
    "_uuid": "86cf2fc8291cd159eac6a812478c0521958ee90b"
   },
   "source": [
    "## Basic Information about the dataset"
   ]
  },
  {
   "cell_type": "code",
   "execution_count": null,
   "metadata": {
    "_uuid": "51b8b579bb8db3a669ef722724071b37fe71665f",
    "scrolled": true
   },
   "outputs": [],
   "source": [
    "print(\"There are {} countries and these are {}\\n\".format(len(wines.country.unique()), \", \".join(wines.country.unique()[0:5])))\n",
    "print(\"There are {} varities of wine which are {}\\n\".format(len(wines.variety.unique()), \", \".join(wines.variety.unique()[0:5])))"
   ]
  },
  {
   "cell_type": "markdown",
   "metadata": {
    "_uuid": "580792eb3d08e460d00cb95b465e4f4e5bac68c5"
   },
   "source": [
    "### Finding out how many entries are there per country"
   ]
  },
  {
   "cell_type": "code",
   "execution_count": null,
   "metadata": {
    "_uuid": "74e8f74862b1e9ebc074f39f2fbac5dddfa3703d"
   },
   "outputs": [],
   "source": [
    "wines_country = pd.crosstab(index = wines['country'], columns = 'count')\n",
    "plt.rcParams[\"figure.figsize\"][0] = 10\n",
    "plt.rcParams[\"figure.figsize\"][1] = 4\n",
    "wines_country['count'].plot(kind = 'bar',width= 0.7)\n",
    "plt.title(\"Graph showing total number of entries of each country\", fontsize = 17)\n",
    "plt.xlabel(\"Countries\", fontsize = 14)\n",
    "plt.ylabel(\"Frequency of entries\", fontsize = 14)"
   ]
  },
  {
   "cell_type": "markdown",
   "metadata": {
    "_uuid": "993a19e9b1c2d72d981166a119ea166223ea05fa"
   },
   "source": [
    "<p> So, we find that there are almost all the countries with less than 10000 mark. There are only 3 countries which are more than 20000 out of which USA has more than 50000.The rest 2 countries are France and Italy with values somewhat around 20000, While Armenia seems to get the minimum entries in the dataset</p>\n",
    "<p> Next we find out the varities of wine on the basis of number of entries. So we select the values of varities for only more than 1000 entries are available which proves that these wines are popular than others. Then We plot the bar graph for it to find their frequency. </p>"
   ]
  },
  {
   "cell_type": "markdown",
   "metadata": {
    "_uuid": "2b9b4063aae9bc9e79ed8895f975079630a7e227"
   },
   "source": [
    "### Getting the varities of wine and then plotting their barchart"
   ]
  },
  {
   "cell_type": "code",
   "execution_count": null,
   "metadata": {
    "_uuid": "521b503a95f5ae8b40ce1beb7ef2ad4c6b8bb7c3"
   },
   "outputs": [],
   "source": [
    "variety = pd.crosstab(index = wines['variety'], columns = 'count').sort_values('count' , ascending = False)\n",
    "wines_var = variety[variety['count'] > 1000]\n",
    "wines_var['count'].plot(kind = 'bar', width = 0.7)\n",
    "plt.title(\"The number of each variety of wine present\", fontsize= 17)\n",
    "plt.xlabel(\"The variety of wines that are present\", fontsize = 14)\n",
    "plt.ylabel(\"The number of wine variety that are present\", fontsize = 14)"
   ]
  },
  {
   "cell_type": "markdown",
   "metadata": {
    "_uuid": "932ad40548246ec887e957419c6a9eb5b26c2e4e"
   },
   "source": [
    "## Analysing the parameters of price and points for classification"
   ]
  },
  {
   "cell_type": "markdown",
   "metadata": {
    "_uuid": "e598bc6d43469e9957f10c6efed026ef45ebf08c"
   },
   "source": [
    "<p> So, now we have already plotted the graphs for the countries and wine varities. Next what we need to know is the 2 important parameters that will actually decide the classification for us. These features are points and price. The points as defined gives the points from 1 to 100 which the reviewer has given to the wine and price defines the price at which it is sold. </p>\n",
    "<p> So, it is obviously preassumed that the higher the rating points of the wine the better will be its quality and somewhat same relation is applied with the price. So let us find out the prices and points in the dataset </p> \n"
   ]
  },
  {
   "cell_type": "code",
   "execution_count": null,
   "metadata": {
    "_uuid": "3c6e55d6658718e59af76110ec3e89f7d1cc74ea"
   },
   "outputs": [],
   "source": [
    "wines['points'].hist(grid = False, bins = 40,color = 'purple')"
   ]
  },
  {
   "cell_type": "code",
   "execution_count": null,
   "metadata": {
    "_uuid": "3707bc244f15f906ec42ba0f78f697f2ecf542bc"
   },
   "outputs": [],
   "source": [
    "wines['points'].describe()"
   ]
  },
  {
   "cell_type": "markdown",
   "metadata": {
    "_uuid": "29f5304fae4238517dc7f3353b92f13f929b431d"
   },
   "source": [
    "<p> So from here we can clearly see that the graph so formed is a normal graph. It has its peak somewhere in the middle at around 88-89. So we can found all the important points for the graph. And what we found out was the mean of the points given to the varieties were around 88.45. And maximum was 100 which was very few and minimum was 80 which was again very few. So None of the wine quality was ever given a below 80 mark which proves most of the wines were above average for the reviewer. And the Standard deviation of 3.03 suggests that the points given to each wine was 88 +/- 3 which means anything ranging from 85 to 91 which is a very good score.</p>\n",
    "<p> Now points is 1 parameter which we can find out with the help of description. but we need to divide it into ranges like the 4 ranges \n",
    "     <ol> \n",
    "         <li> 80 to 85 points </li>\n",
    "         <li> 85 to 90 points </li>\n",
    "         <li> 90 to 95 points </li>\n",
    "         <li> 95 to 100 points </li>\n",
    "    </ol>\n",
    "This way we can easily do the analysis of the text and classify the wines in according to the points </p>"
   ]
  },
  {
   "cell_type": "code",
   "execution_count": null,
   "metadata": {
    "_uuid": "d487ab4aaf7be807463093734b382476e97d0b1e"
   },
   "outputs": [],
   "source": [
    "price = pd.crosstab(index = wines['price'], columns = 'count').sort_values(by = 'count', ascending = False)\n",
    "plt.rcParams['figure.figsize'][0] = 4\n",
    "plt.rcParams['figure.figsize'][1] = 4\n",
    "price['count'].hist(grid = False)"
   ]
  },
  {
   "cell_type": "markdown",
   "metadata": {
    "_uuid": "06cd20e94da164f37faa9cd27816e09ffdd4cefd"
   },
   "source": [
    "<p> So, what we find here is a completely skewed graph which has prices lying just mainly from 0 to maybe 400. And there are very very little prices above 2000 and maybe negligible like 1 or 2 above 4000. So now let us get the prices which have the value of just 100 or below them in the dataset so that we can have a much more closer look at the data.</p>"
   ]
  },
  {
   "cell_type": "code",
   "execution_count": null,
   "metadata": {
    "_uuid": "aa5acf1c080a7f9d032484c555c467476beadef4"
   },
   "outputs": [],
   "source": [
    "price_max = wines[wines['price'] < 100]['price']\n",
    "price_max.hist(grid = False, color = 'green')"
   ]
  },
  {
   "cell_type": "markdown",
   "metadata": {
    "_uuid": "e3c81b5687a54f87ad6f5ca714390e56bd295778"
   },
   "source": [
    "<p> So now this gives a much broader look at the dataset And we find that mostly the prices are from 20 to 40. 100 is also something which the price really touches. So now this means that the costly wines are lesser in number in this dataset.</p>\n",
    "<p> So Now for the text classification of the data here we will have to divide the groups into non-uniform groups. Because mainly the wines are below 100 and that too we have mainly below 50. So division can be more clearly understood by further finding the mean and 25th and 75th percentile etc for this graph. </p>"
   ]
  },
  {
   "cell_type": "code",
   "execution_count": null,
   "metadata": {
    "_uuid": "600d4c4819a7e2235accdf2389e9c3e8c239fdc7"
   },
   "outputs": [],
   "source": [
    "price_max.describe()"
   ]
  },
  {
   "cell_type": "markdown",
   "metadata": {
    "_uuid": "e65ed1e7e4d9f5352e3c93f8e01d2d3e4a98e02b"
   },
   "source": [
    "<p> So here we find that the mean is around 30 which is much below 50 but we have a very high standard deviation i.e. 18 so the prices actually vary from 48 to 12 and this can also be seen from the graph as it is highly skewed. We have hardly the prices going to 100's So we can divide up the groups as follows : \n",
    "   <ol> \n",
    "       <li> 0-10 </li>\n",
    "       <li> 10-20</li>\n",
    "       <li> 20-30</li>\n",
    "       <li> 30-50</li>\n",
    "       <li> 50-100</li>\n",
    "       <li>Above 100</li>\n",
    "   </ol>\n",
    "  <p> Now for the further information like Word Clouds Formation, Text Analysis using NLTK, Various ML Algos for Predictions visit the following link</p>\n",
    "  <p> <a href = 'https://www.kaggle.com/bhaargavi/wine-review-classification-making-word-clouds'><h3>Link To Text Classification using NLP for Various types of Wines -- Part 2</h3></a> </p>\n",
    "  <p> <a href = 'https://www.kaggle.com/bhaargavi/wine-reviews-classification-using-nlp-and-ml '><h3>Link To Text Classification using NLP for Various types of Wines -- Part 3</h3></a> </p>\n"
   ]
  },
  {
   "cell_type": "code",
   "execution_count": null,
   "metadata": {
    "_uuid": "e364a5ede280276cdd4fef735fec4704d8ef0049"
   },
   "outputs": [],
   "source": []
  }
 ],
 "metadata": {
  "kernelspec": {
   "display_name": "Python 3",
   "language": "python",
   "name": "python3"
  },
  "language_info": {
   "codemirror_mode": {
    "name": "ipython",
    "version": 3
   },
   "file_extension": ".py",
   "mimetype": "text/x-python",
   "name": "python",
   "nbconvert_exporter": "python",
   "pygments_lexer": "ipython3",
   "version": "3.6.8"
  }
 },
 "nbformat": 4,
 "nbformat_minor": 1
}
