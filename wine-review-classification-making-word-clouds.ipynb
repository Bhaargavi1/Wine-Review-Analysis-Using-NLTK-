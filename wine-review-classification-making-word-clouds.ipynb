{
 "cells": [
  {
   "cell_type": "markdown",
   "metadata": {
    "_uuid": "8caa2b8dca6792ff297fa0102be94676d90f75eb"
   },
   "source": [
    "## Text Classification using NLP for Various types of Wines -- Part2"
   ]
  },
  {
   "cell_type": "code",
   "execution_count": null,
   "metadata": {
    "_uuid": "4bd4a85ca43642289b0a7262a01e23989a7459d8"
   },
   "outputs": [],
   "source": [
    "import numpy as np\n",
    "import pandas as pd \n",
    "import matplotlib.pyplot as plt \n",
    "%matplotlib inline\n",
    "import nltk\n",
    "# Importing Natural language Processing toolkit.\n",
    "from PIL import Image\n",
    "# from python imaging library\n",
    "from wordcloud import WordCloud, STOPWORDS, ImageColorGenerator"
   ]
  },
  {
   "cell_type": "markdown",
   "metadata": {
    "_uuid": "9e9f9369d1efad15e7303039fa87cb8e9647a5c5"
   },
   "source": [
    "<p> This is wine reviews classification. To see the data analysis of the dataset and some basic information related to the dataset the link is further given below.  <a href = 'https://www.kaggle.com/bhaargavi/wine-classification-analysis-of-data'><h3>Link To Text Classification using NLP for Various types of Wines -- Part 1</h3></a> </p> "
   ]
  },
  {
   "cell_type": "code",
   "execution_count": null,
   "metadata": {
    "_uuid": "69cef21824f2f0d7bd506172838485dedaceca5f"
   },
   "outputs": [],
   "source": [
    "wines =  pd.read_csv(\"Dataset/wine130k/winemag-data-130k-v2.csv\",index_col = 0)\n",
    "df_wines = wines[['country', 'description', 'points', 'price', 'variety']]\n",
    "df_wines = df_wines.sample(frac = 0.05)\n",
    "print(df_wines.shape)\n",
    "df_wines.head()"
   ]
  },
  {
   "cell_type": "markdown",
   "metadata": {
    "_uuid": "c765ff8c6264daa779a184cdcf9885943fd5917d"
   },
   "source": [
    "## Understanding the NLP and Making the Word Clouds"
   ]
  },
  {
   "cell_type": "markdown",
   "metadata": {
    "_uuid": "ee66919147823775cf1bbb8898e6473b1f39c38a"
   },
   "source": [
    "<p> So now our next task is to do some text analysis and NLTK on this and perform some analysis so that we can classify the wines on the basis of number of points i.e. determine its quality and also determine the price values for these wines. So the steps we are going to follow is by removing less important words by using various techniques then we will use the bag of words, tfidf values, then Machine learning classification techniques to predict the values.  </p> "
   ]
  },
  {
   "cell_type": "markdown",
   "metadata": {
    "_uuid": "6719e89b3236b2066afacc102be07a5abbe20cb2"
   },
   "source": [
    "### So, firstly let us get some basic concepts \n",
    "<ol>  \n",
    " <li>Tokenization -- Which involves breaking the sentences into smaller parts called tokens which are generally words.</li>\n",
    " <li> Normalization -- which involves getting to the root of the word. Like talked becomes talk and talks also becomes talk. So this will eliminate a lot of same words. It can be of 2 forms 1. Stemming and 2. Lemmatization. </li> \n",
    " <li> Word Cloud --  An image composed of words used in a particular text or subject, in which the size of each word indicates its frequency or importance </li>\n",
    "</ol> \n",
    "So, these are some basic Concepts of NLP Now lets get started and implement them one by one \n",
    "  "
   ]
  },
  {
   "cell_type": "markdown",
   "metadata": {
    "_uuid": "39605b988358871b591d933cff22312cebd1d807"
   },
   "source": [
    "### Using Tokenization and Normalization"
   ]
  },
  {
   "cell_type": "code",
   "execution_count": null,
   "metadata": {
    "_uuid": "3d922656b51684588943735b9357932bcfe1deea"
   },
   "outputs": [],
   "source": [
    "# Firstly let us count the number of words in all in the description texts available to us in our sample data\n",
    "text = \" \".join(review for review in df_wines.description)\n",
    "print (\"There are {} words in the combination of all review.\".format(len(text)))"
   ]
  },
  {
   "cell_type": "code",
   "execution_count": null,
   "metadata": {
    "_uuid": "a8de4040920158a9a5cbd77c0f9111500d226480"
   },
   "outputs": [],
   "source": [
    "# N0w tokenizing the text using TreebankWordTokenizer\n",
    "tokenizer1 = nltk.tokenize.TreebankWordTokenizer()\n",
    "tokens = tokenizer1.tokenize(text)\n",
    "tokens[0:10]"
   ]
  },
  {
   "cell_type": "code",
   "execution_count": null,
   "metadata": {
    "_uuid": "26346a6faa7bbb395e04569f18a0376e1a982e82"
   },
   "outputs": [],
   "source": [
    "# NOw normalization of the text using lemmatization\n",
    "stemmer = nltk.stem.WordNetLemmatizer()\n",
    "words_all = \" \".join(stemmer.lemmatize(token) for token in tokens)\n",
    "words_all[0:100]                     "
   ]
  },
  {
   "cell_type": "markdown",
   "metadata": {
    "_uuid": "7b5043e79024b9dfd6cc55cb8c70ae0823babc95"
   },
   "source": [
    "### Now removing the stopwords \n",
    "<p> The stopwords are the words that are very commonly repeated like is, are,the, not, I, am etc and they don't need to be there and they don't tell anything about the sentence. Also they are present in the documents in high frequencies so it is very important to remove them otherwise while making the wordclouds or by classification they can affect the predictions in adverse way. Also the list of stopwords is already predefined for certain languages like english and others and it can also be updates based on the type of data we have.</p>"
   ]
  },
  {
   "cell_type": "code",
   "execution_count": null,
   "metadata": {
    "_uuid": "3e5c863684d2a5c521736bf401bcc30e3b5bb19c"
   },
   "outputs": [],
   "source": [
    "stopwords = set(STOPWORDS)\n",
    "stopwords.update([\"drink\" , 'now', 'wine' ,'flavour'])\n",
    "wordcloud = WordCloud(stopwords = stopwords, background_color = \"white\").generate(words_all)\n",
    "plt.imshow(wordcloud, interpolation = 'bilinear')\n",
    "plt.axis('off')\n",
    "plt.show()"
   ]
  },
  {
   "cell_type": "markdown",
   "metadata": {
    "_uuid": "5ad628e4364c4d60988d9c54877c2d0296c7d034"
   },
   "source": [
    "### Some other techniques to build word Clouds\n",
    "<p> Word Clouds need not be in a rectangular box, it can be inside any picture also if we want and it can also have various gradients also giving it a look of a particular object or picture depending on the context without acually using a picture. So now let us try that out. </p>"
   ]
  },
  {
   "cell_type": "markdown",
   "metadata": {
    "_uuid": "627c4d8edbde3c970cca79fea429f50ccbb22ee3"
   },
   "source": [
    "### A. Using the picture of a wine and a glass and then using it as a background for wordcloud"
   ]
  },
  {
   "cell_type": "code",
   "execution_count": null,
   "metadata": {
    "_uuid": "5b000889f2c7e1dd7fadc0564515ab0f9e769503"
   },
   "outputs": [],
   "source": [
    "wine_mask = np.array(Image.open('../input/images/wine.jpg'))\n",
    "def transform_mask(val):\n",
    "    # For black color inside the wine bottle and glass making it white\n",
    "    if val == 0:\n",
    "        return 255\n",
    "    else:\n",
    "        return val\n",
    "transformed_wine_mask = np.ndarray((wine_mask.shape[0], wine_mask.shape[1]))\n",
    "for i in range(len(wine_mask)):\n",
    "    transformed_wine_mask[i] = list(map(transform_mask, wine_mask[i]))"
   ]
  },
  {
   "cell_type": "code",
   "execution_count": null,
   "metadata": {
    "_uuid": "6249374f0964baed44484d2ca6ab7f436a7e0ddb"
   },
   "outputs": [],
   "source": [
    "wc = WordCloud(background_color=\"white\", max_words=1000, mask=transformed_wine_mask,\n",
    "               stopwords=stopwords, contour_width=3, contour_color='firebrick', max_font_size = 34).generate(words_all)\n",
    "\n",
    "# show\n",
    "plt.figure(figsize=[20,10])\n",
    "plt.imshow(wc, interpolation='bilinear')\n",
    "plt.axis(\"off\")\n",
    "plt.show()"
   ]
  },
  {
   "cell_type": "markdown",
   "metadata": {
    "_uuid": "e9c65888686ae897ab62ba06618f4575cbc1bdd8"
   },
   "source": [
    "### B. Now let us do the same thing with color gradients. \n",
    " #### So let us do this with the flag of india and USA and getting their wine descriptions inside them "
   ]
  },
  {
   "cell_type": "code",
   "execution_count": null,
   "metadata": {
    "_uuid": "9d311a505572144825b0c2f1b61cdd8b26dbc68a"
   },
   "outputs": [],
   "source": [
    "def create_color_comb(country, img):\n",
    "    country = \" \".join(review for review in  wines[wines['country'] == country].description)\n",
    "    mask = np.array(Image.open(\"../input/images/\"+img))\n",
    "    wordcloud_country = WordCloud(stopwords = STOPWORDS, background_color = 'white',contour_color='firebrick',\n",
    "                                  max_words = 1000, mask = mask).generate(country)\n",
    "    image_colors = ImageColorGenerator(mask)\n",
    "    plt.figure(figsize=[5,8])\n",
    "    plt.imshow(wordcloud_country.recolor(color_func=image_colors), interpolation=\"bilinear\")\n",
    "    plt.axis(\"off\")"
   ]
  },
  {
   "cell_type": "code",
   "execution_count": null,
   "metadata": {
    "_uuid": "df5902d4984d0b1b906e5d54ba692fc02b2b6386"
   },
   "outputs": [],
   "source": [
    "create_color_comb(\"India\", \"india.png\")\n",
    "create_color_comb(\"US\", \"usa.jpg\")"
   ]
  },
  {
   "cell_type": "markdown",
   "metadata": {
    "_uuid": "7ba84b78ae6bf5249dce82ff1000dddf5b6e51cb"
   },
   "source": [
    ". <p> Now for the further information on NLP and Various ML algos and their accuracies for the prediction of data . Follow this link <a href = ' https://www.kaggle.com/bhaargavi/wine-reviews-classification-using-nlp-and-ml'><h3> Link to Wine Reviews Classification Using NLP and ML</h3></a> </p>"
   ]
  },
  {
   "cell_type": "code",
   "execution_count": null,
   "metadata": {
    "_uuid": "6e6cd26deb78b5947323bf6c6d3b4d730df0bb7b"
   },
   "outputs": [],
   "source": []
  }
 ],
 "metadata": {
  "kernelspec": {
   "display_name": "Python 3",
   "language": "python",
   "name": "python3"
  },
  "language_info": {
   "codemirror_mode": {
    "name": "ipython",
    "version": 3
   },
   "file_extension": ".py",
   "mimetype": "text/x-python",
   "name": "python",
   "nbconvert_exporter": "python",
   "pygments_lexer": "ipython3",
   "version": "3.6.8"
  }
 },
 "nbformat": 4,
 "nbformat_minor": 1
}
