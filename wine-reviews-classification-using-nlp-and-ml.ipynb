{
 "cells": [
  {
   "cell_type": "markdown",
   "metadata": {
    "_uuid": "fd44f1bdd5c6e93f4dcfbe26d86b37a7eec5c2ee"
   },
   "source": [
    "## Text Classification using NLP for Various types of Wines -- Part 3"
   ]
  },
  {
   "cell_type": "code",
   "execution_count": null,
   "metadata": {
    "_uuid": "41b5dd9e72e91b2e6bddeba01bfd781dec6e9587"
   },
   "outputs": [],
   "source": [
    "import numpy as np\n",
    "import pandas as pd \n",
    "import matplotlib.pyplot as plt \n",
    "%matplotlib inline\n",
    "import nltk\n",
    "# Importing Natural language Processing toolkit.\n",
    "from PIL import Image\n",
    "# from python imaging library\n",
    "from wordcloud import WordCloud, STOPWORDS, ImageColorGenerator"
   ]
  },
  {
   "cell_type": "code",
   "execution_count": null,
   "metadata": {
    "_uuid": "13ffb9001c1f431ab99ec4d754ed74ba460db9c3"
   },
   "outputs": [],
   "source": [
    "wines = pd.read_csv(\"Dataset/winemag-data-130k-v2.csv\",index_col = 0)\n",
    "wines = wines.dropna(subset = ['points' , 'price'])\n",
    "df_wines = wines[['country', 'description', 'points', 'price', 'variety']]\n",
    "df_wines = df_wines.sample(frac = 0.05)\n",
    "print(df_wines.shape)\n",
    "df_wines.head()"
   ]
  },
  {
   "cell_type": "markdown",
   "metadata": {
    "_uuid": "3d7dd99f021e2df2b3a4217e51b8ccbb9aa95ca8"
   },
   "source": [
    "<p> For information related to the basics of dataset and the data analysis part of it refer to this link  \n",
    "    <a href = \"https://www.kaggle.com/bhaargavi/wine-classification-analysis-of-data\"> <h3>Link to Wine Classification Analysis of Data </h3> </a>  </p> \n",
    "<p> For information related to the word cloud formations and various basic concepts of NLP  refer to this link  \n",
    "   <a href = \"https://www.kaggle.com/bhaargavi/wine-review-classification-making-word-clouds \"> <h3>Link to Wine Review Classification -- Making Word Clouds</h3> </a> </p>    "
   ]
  },
  {
   "cell_type": "markdown",
   "metadata": {
    "_uuid": "cd6bc446ec8da151edcb7ca7666a533eb1170a6f"
   },
   "source": [
    "<p> Now we need to divide the points and price of the wines in specific groups so that we can classify the data easily. So here we classify the points in 4 groups -- Average, Good, Great and Perfect and the prices in the six categories 0-10, 10-20, 20-30, 30-50, 50-100, Above 100. </p>"
   ]
  },
  {
   "cell_type": "code",
   "execution_count": null,
   "metadata": {
    "_uuid": "a2f80b30aabbef6b3402780f43b1106a5e11d6a1"
   },
   "outputs": [],
   "source": [
    "df_wines.loc[(df_wines['points'] > 80) & (df_wines['points'] <=85), 'wine_quality'] = 'Average'\n",
    "df_wines.loc[(df_wines['points'] > 85) & (df_wines['points'] <=90), 'wine_quality'] = 'Good'\n",
    "df_wines.loc[(df_wines['points'] > 90) & (df_wines['points'] <=95), 'wine_quality'] = 'Great'\n",
    "df_wines.loc[(df_wines['points'] > 95) & (df_wines['points'] <=100), 'wine_quality'] = 'Perfect'\n",
    "df_wines = df_wines[df_wines['wine_quality'].apply(lambda x: type(x) == str)]"
   ]
  },
  {
   "cell_type": "code",
   "execution_count": null,
   "metadata": {
    "_uuid": "751ec508465e03d6cf576a5c2f95931f299b0e92"
   },
   "outputs": [],
   "source": [
    "df_wines.loc[(df_wines['price'] > 0) & (df_wines['price'] <=10) , 'price_val'] = '0-10'\n",
    "df_wines.loc[(df_wines['price'] > 10) & (df_wines['price'] <=20) , 'price_val'] = '10-20'\n",
    "df_wines.loc[(df_wines['price'] > 20) & (df_wines['price'] <=30) , 'price_val'] = '20-30'\n",
    "df_wines.loc[(df_wines['price'] > 30) & (df_wines['price'] <=50) , 'price_val'] = '30-50'\n",
    "df_wines.loc[(df_wines['price'] > 50) & (df_wines['price'] <=100) , 'price_val'] = '50-100'\n",
    "df_wines.loc[df_wines['price'] > 100  , 'price_val'] = 'Above 100'"
   ]
  },
  {
   "cell_type": "code",
   "execution_count": null,
   "metadata": {
    "_uuid": "140fa9c4af086d50b48bdf0ff82d7722ea59b969"
   },
   "outputs": [],
   "source": [
    "df_wines = df_wines.drop(columns = ['price', 'points'])\n",
    "df_wines.head(5)"
   ]
  },
  {
   "cell_type": "markdown",
   "metadata": {
    "_uuid": "82d2e67e39e3472352c407be8614ba509f79bf1f"
   },
   "source": [
    "### Removal of less important words for classifcation \n",
    "<p> NOw after the wordclouds we actually need to do some real text analysis and for that the first step will be removal of less important words from the descriptions using function which is as follows </p>"
   ]
  },
  {
   "cell_type": "code",
   "execution_count": null,
   "metadata": {
    "_uuid": "57c0525b55c0e61778d39108af213bb4b34c9b93"
   },
   "outputs": [],
   "source": [
    "sample_data = df_wines\n",
    "for i in sample_data.description:\n",
    "    # Importing tokenize library\n",
    "    from nltk.tokenize import word_tokenize\n",
    "    # Tokenizing the words not using the treebankTokenizer as it was changing the text and using it with punctuation marks \n",
    "    tokens = word_tokenize(i)\n",
    "    \n",
    "    # Changing all the letters to lowercase \n",
    "    tokens_low = [w.lower() for w in tokens]\n",
    "    \n",
    "    \n",
    "    # Removing all non-alphabetics from the descriptions \n",
    "    words = [word for word in tokens_low if word.isalpha()]\n",
    "    \n",
    "    # Removing stopwords.\n",
    "    stopwords = set(STOPWORDS)\n",
    "    stopwords.update([\"drink\" , 'now', 'wine' ,'flavour'])\n",
    "    filter_sen = [w for w in words if not w in stopwords]\n",
    "    \n",
    "    #Using stemming for normalisation \n",
    "    from nltk.stem.porter import PorterStemmer\n",
    "    porter  = PorterStemmer()\n",
    "    stemmed = [porter.stem(word) for word in filter_sen]\n",
    "    \n",
    "    sentence = \" \".join(w for w in stemmed)\n",
    "    sample_data = sample_data.replace(i , sentence)"
   ]
  },
  {
   "cell_type": "markdown",
   "metadata": {
    "_uuid": "c7ae182850bb529c1cba5461684141d73dd42061"
   },
   "source": [
    "<p> Now the basic things done while removing these less important words were \n",
    "   <ol>\n",
    "    <li> Tokenizing the words </li>\n",
    "    <li> Converting all of them to lower cases </li>\n",
    "    <li> Removing all stopwords </li>\n",
    "    <li> Performing Normalisation only stemming on them. </li>\n",
    "    <li>Joining them back to sentences and replacing them with their orignials in the dataframe </li>\n",
    "   </ol>\n",
    "</p>"
   ]
  },
  {
   "cell_type": "markdown",
   "metadata": {
    "_uuid": "ebcc2d024603f1c73a82c8a342dd6f88c0a7f723"
   },
   "source": [
    "### Splitting the data into training and test data"
   ]
  },
  {
   "cell_type": "code",
   "execution_count": null,
   "metadata": {
    "_uuid": "815d31a06608fadf1d6a7f2f185826ba88b75da4"
   },
   "outputs": [],
   "source": [
    "from sklearn.model_selection import train_test_split\n",
    "X_train, X_test = train_test_split(sample_data, test_size = 0.3)\n",
    "print(\"The total training data is {}\".format(X_train.shape))\n",
    "print(\"The total test data is {}\".format(X_test.shape))"
   ]
  },
  {
   "cell_type": "code",
   "execution_count": null,
   "metadata": {
    "_uuid": "bbc888a1bb9bdd2cb4cb74ad0f06449ffee5733b"
   },
   "outputs": [],
   "source": [
    "print(\"The sample training data has {} tweets\".format(X_train.shape))\n",
    "X_train.head(4)"
   ]
  },
  {
   "cell_type": "markdown",
   "metadata": {
    "_uuid": "7f6f8d51c196311fe925f49c5ac62aedafb20ed4"
   },
   "source": [
    "### Checking the number of quality types of wine in training data"
   ]
  },
  {
   "cell_type": "code",
   "execution_count": null,
   "metadata": {
    "_uuid": "36f3c1b8b39526669ca368ff0af7d2f376c9066b"
   },
   "outputs": [],
   "source": [
    "quality_w = pd.crosstab(index = X_train['wine_quality'], columns = 'count' )\n",
    "price = pd.crosstab(index = X_train['price_val'], columns = 'count' )\n",
    "plt.rcParams['figure.figsize'][0] = 14\n",
    "plt.rcParams['figure.figsize'][1] = 6\n",
    "fig, axs = plt.subplots(1,2)\n",
    "quality_w.plot(kind = 'pie', subplots = True, ax=axs[0],autopct='%1.1f%%',shadow=True)\n",
    "price.plot(kind = 'pie',subplots= True,ax=axs[1],  autopct='%1.1f%%',shadow=True)\n",
    "plt.suptitle(\" A.% Distribution of Qualities of Wines    B.% Distribution of the Price Ranges found\",fontsize = 16)\n",
    "plt.show()"
   ]
  },
  {
   "cell_type": "markdown",
   "metadata": {
    "_uuid": "3c9c1034bd0464bdd45070d9c160fa07fd789714"
   },
   "source": [
    "### Basic Concepts of NLP \n",
    "<ol>\n",
    "    <li> Bag of Words -- It is an approach used in document classification where the (frequency of) occurrence of each word is used as a feature for training a classifier</li>\n",
    " <li> TFIDF Values -- Term frequency and Inverse document frequency helps us to find the importance of each word in the document\n",
    "    </li>\n",
    "</ol>"
   ]
  },
  {
   "cell_type": "markdown",
   "metadata": {
    "_uuid": "86f2cf09a9f16ea1349f66c8f966dc11525365a7"
   },
   "source": [
    "### Using Bag of Words"
   ]
  },
  {
   "cell_type": "code",
   "execution_count": null,
   "metadata": {
    "_uuid": "874181f38b084f8877f81517dcce8958025fb099"
   },
   "outputs": [],
   "source": [
    "from sklearn.feature_extraction.text import CountVectorizer\n",
    "count = CountVectorizer()\n",
    "training_counts = count.fit_transform(X_train.description)\n",
    "print(\"The shape of the data is {}\".format(training_counts.shape))\n",
    "#count.vocabulary_"
   ]
  },
  {
   "cell_type": "markdown",
   "metadata": {
    "_uuid": "3efa6da90196a39462091f14a8a9449af124d47e"
   },
   "source": [
    "### Using TF-IDF Values"
   ]
  },
  {
   "cell_type": "code",
   "execution_count": null,
   "metadata": {
    "_uuid": "901760e3468244ed91003adfb27d528a33dd5349"
   },
   "outputs": [],
   "source": [
    "from sklearn.feature_extraction.text import TfidfTransformer\n",
    "tfidf_transformer = TfidfTransformer()\n",
    "X_train_tfidf = tfidf_transformer.fit_transform(training_counts)\n",
    "X_train_tfidf.shape"
   ]
  },
  {
   "cell_type": "code",
   "execution_count": null,
   "metadata": {
    "_uuid": "6d24c3b1bba0d9e62f3087ae1bcd280705c5e16f"
   },
   "outputs": [],
   "source": [
    "from sklearn.feature_extraction.text import TfidfVectorizer\n",
    "tfidf_model = TfidfVectorizer(min_df=2, max_df=0.5, ngram_range=(1, 2))\n",
    "features = tfidf_model.fit_transform(X_train.description)\n",
    "tfidf_df= pd.DataFrame(features.todense(),columns=tfidf_model.get_feature_names())\n",
    "tfidf_df.head()"
   ]
  },
  {
   "cell_type": "markdown",
   "metadata": {
    "_uuid": "cc82854fcf959d13a3c41ab30352f8d69c082c77"
   },
   "source": [
    "### Machine Learning Algorithms "
   ]
  },
  {
   "cell_type": "markdown",
   "metadata": {
    "_uuid": "a50c2d2bddfeb12dedd45aed8f701a50ca4f21b4"
   },
   "source": [
    "### A. Naive Bayes Algorithm"
   ]
  },
  {
   "cell_type": "code",
   "execution_count": null,
   "metadata": {
    "_uuid": "80070b83c754a4347d5b33a2d4362f32972e5ca0"
   },
   "outputs": [],
   "source": [
    "from sklearn.pipeline import Pipeline\n",
    "from sklearn.naive_bayes import MultinomialNB\n",
    "text_clf_multi = Pipeline([('vect' , CountVectorizer()), ('tfidf' , TfidfTransformer()), ('clf', MultinomialNB())])"
   ]
  },
  {
   "cell_type": "code",
   "execution_count": null,
   "metadata": {
    "_uuid": "7dae7c5719d10b39b29513bc59e7bba40be8fd19"
   },
   "outputs": [],
   "source": [
    "train1 = text_clf_multi.fit(X_train.description, X_train.wine_quality)\n",
    "predicted1 = train1.predict(X_test.description)\n",
    "score1_qual = 100 * text_clf_multi.score(X_test['description'], X_test['wine_quality'])\n",
    "print(\"The score of Mulitnomial Naive Bayes for the quality of wine is {} %\".format(score1_qual))"
   ]
  },
  {
   "cell_type": "code",
   "execution_count": null,
   "metadata": {
    "_uuid": "dcf48bd8f44f77712fcbb8331e813ddaaf05e8d6"
   },
   "outputs": [],
   "source": [
    "train1 = text_clf_multi.fit(X_train.description, X_train.price_val)\n",
    "predicted1 = train1.predict(X_test.description)\n",
    "score1_price = 100 * text_clf_multi.score(X_test['description'], X_test['price_val'])\n",
    "print(\"The score of Mulitnomial Naive Bayes for the price value is {} %\".format(score1_price))"
   ]
  },
  {
   "cell_type": "markdown",
   "metadata": {
    "_uuid": "04eadce022051169c8e7720a406439d21e99e497"
   },
   "source": [
    "### B. Suppot Vector Machines"
   ]
  },
  {
   "cell_type": "code",
   "execution_count": null,
   "metadata": {
    "_uuid": "7995bf144c6d20108623a786ecf9b276c548fea5"
   },
   "outputs": [],
   "source": [
    "from sklearn.pipeline import Pipeline \n",
    "from sklearn.svm import SVC\n",
    "text_clf_svm_linear = Pipeline([('vect', CountVectorizer()), ('tfidf', TfidfTransformer()),('clf-svm', SVC(kernel = 'linear'))])\n",
    "text_clf_svm_rbf = Pipeline([('vect', CountVectorizer()), ('tfidf', TfidfTransformer()),('clf-svm', SVC(kernel = 'rbf'))])"
   ]
  },
  {
   "cell_type": "code",
   "execution_count": null,
   "metadata": {
    "_uuid": "0435e8bec4551c66593d1d7b5f9e7619fa19a7cd"
   },
   "outputs": [],
   "source": [
    "text_clf_svm_linear.fit(X_train.description, X_train.wine_quality)\n",
    "text_clf_svm_rbf.fit(X_train.description, X_train.wine_quality)\n",
    "predict_svm = text_clf_svm_linear.predict(X_test.description)\n",
    "predict_svm = text_clf_svm_rbf.predict(X_test.description)\n",
    "linear_svm_qual = 100 * text_clf_svm_linear.score(X_test['description'] , X_test['wine_quality'])\n",
    "rbf_svm_qual  = 100  * text_clf_svm_rbf.score(X_test['description'] , X_test['wine_quality'])\n",
    "print(\"The score of Support Vector Machine Linear Kernel for the quality of wine is {} %\".format(linear_svm_qual))\n",
    "print(\"The score of Support Vector Machine RBF Kernel for the quality of wine is {} %\".format(rbf_svm_qual))"
   ]
  },
  {
   "cell_type": "code",
   "execution_count": null,
   "metadata": {
    "_uuid": "42aea57fa7b061ecb97d2c8cc5254df5873981c0"
   },
   "outputs": [],
   "source": [
    "text_clf_svm_linear.fit(X_train.description, X_train.price_val)\n",
    "text_clf_svm_rbf.fit(X_train.description, X_train.price_val)\n",
    "predict_svm = text_clf_svm_linear.predict(X_test.description)\n",
    "predict_svm_price = text_clf_svm_rbf.predict(X_test.description)\n",
    "linear_svm_price = 100 * text_clf_svm_linear.score(X_test['description'] , X_test['price_val'])\n",
    "rbf_svm_price  = 100  * text_clf_svm_rbf.score(X_test['description'] , X_test['price_val'])\n",
    "print(\"The score of Support Vector Machine Linear Kernel for the price value is {} %\".format(linear_svm_price))\n",
    "print(\"The score of Support Vector Machine RBF Kernel for the price value is {} %\".format(rbf_svm_price))"
   ]
  },
  {
   "cell_type": "markdown",
   "metadata": {
    "_uuid": "03e0f46990f65060b3b5522edd9620c568d13103"
   },
   "source": [
    " ### C. K Nearest Neighbors "
   ]
  },
  {
   "cell_type": "code",
   "execution_count": null,
   "metadata": {
    "_uuid": "3d6d9c53929cfd5f9f2b51e1b0eb31f929816a0f"
   },
   "outputs": [],
   "source": [
    "from sklearn.neighbors import KNeighborsClassifier\n",
    "from sklearn.linear_model import SGDClassifier\n",
    "text_clf_knn_3 = Pipeline([('vect', CountVectorizer()), ('tfidf', TfidfTransformer()),('clf-svm',KNeighborsClassifier(n_neighbors=3))])\n",
    "text_clf_knn_7 = Pipeline([('vect', CountVectorizer()), ('tfidf', TfidfTransformer()),('clf-svm',KNeighborsClassifier(n_neighbors=7))])"
   ]
  },
  {
   "cell_type": "code",
   "execution_count": null,
   "metadata": {
    "_uuid": "458f2b212b77fd45d575ce8daa2d93bd8b1336e1"
   },
   "outputs": [],
   "source": [
    "text_clf_knn_3.fit(X_train.description, X_train.wine_quality)\n",
    "text_clf_knn_7.fit(X_train.description, X_train.wine_quality)\n",
    "predict_knn = text_clf_knn_3.predict(X_test.description)\n",
    "predict_knn = text_clf_knn_7.predict(X_test.description)\n",
    "knn_3_qual = 100 * text_clf_knn_3.score(X_test['description'] , X_test['wine_quality'])\n",
    "knn_7_qual = 100 * text_clf_knn_7.score(X_test['description'] , X_test['wine_quality'])\n",
    "print(\"The score of  3 Neighbor KNN for the quality of wine is {} %\".format(knn_3_qual))\n",
    "print(\"The score of 7 Neighbor KNN for the quality of wine is {} %\".format(knn_7_qual))"
   ]
  },
  {
   "cell_type": "code",
   "execution_count": null,
   "metadata": {
    "_uuid": "1c6856cfba74559389466333f136344ad1631687"
   },
   "outputs": [],
   "source": [
    "text_clf_knn_3.fit(X_train.description, X_train.price_val)\n",
    "text_clf_knn_7.fit(X_train.description, X_train.price_val)\n",
    "predict_knn = text_clf_knn_3.predict(X_test.description)\n",
    "predict_knn = text_clf_knn_7.predict(X_test.description)\n",
    "knn_3_price = 100 * text_clf_knn_3.score(X_test['description'] , X_test['price_val'])\n",
    "knn_7_price = 100 * text_clf_knn_7.score(X_test['description'] , X_test['price_val'])\n",
    "print(\"The score of  3 Neighbor KNN for the price values of wine is {} %\".format(knn_3_price))\n",
    "print(\"The score of 7 Neighbor KNN for the price values of wine is {} %\".format(knn_7_price))"
   ]
  },
  {
   "cell_type": "markdown",
   "metadata": {
    "_uuid": "c0c836e3fbede2c61498ab5db9c9e9fd12cd09ae"
   },
   "source": [
    "## Comparing all these methods and finding the most suitable for both parameters"
   ]
  },
  {
   "cell_type": "code",
   "execution_count": null,
   "metadata": {
    "_uuid": "2ee6bb34008f7327c02e804ee1c86979d4cb5b77"
   },
   "outputs": [],
   "source": [
    "data = [['Naive Bayes Multi', score1_qual] , ['SVM Linear' , linear_svm_qual] , ['SVM RBF', rbf_svm_qual] , \n",
    "        ['KNN_3Neighbor' , knn_3_qual] , ['KNN_7Neighbor', knn_7_qual]]\n",
    "quality_pred = pd.DataFrame(data)\n",
    "data2 = [['Naive Bayes Multi', score1_price] , ['SVM Linear' , linear_svm_price] , ['SVM RBF', rbf_svm_price] , \n",
    "        ['KNN_3Neighbor' , knn_3_price] , ['KNN_7Neighbor', knn_7_price]]\n",
    "price_pred = pd.DataFrame(data2)"
   ]
  },
  {
   "cell_type": "code",
   "execution_count": null,
   "metadata": {
    "_uuid": "edc4bbd6d0b444512f4c3d10c3ccb63c72e3afcc"
   },
   "outputs": [],
   "source": [
    "plt.rcParams['figure.figsize'][0] = 8\n",
    "plt.rcParams['figure.figsize'][1] = 6\n",
    "index = np.arange(len(quality_pred))\n",
    "width = 0.4\n",
    "plt.bar(index, quality_pred[1], width = width)\n",
    "plt.xlabel('Algorithm Used', fontsize=12)\n",
    "plt.ylabel('Percentage Accuracy', fontsize=12)\n",
    "plt.xticks(index, quality_pred[0], fontsize=10)\n",
    "plt.yticks(np.arange(0,100, step = 10))\n",
    "plt.title('% Accuracy of Various ML Algos in predicting the quality of wine', fontsize = 15)\n",
    "plt.show()"
   ]
  },
  {
   "cell_type": "code",
   "execution_count": null,
   "metadata": {
    "_uuid": "bbd72a45c3ceb393f1191c9abc69f147861798f9"
   },
   "outputs": [],
   "source": [
    "index2 = np.arange(len(price_pred))\n",
    "width = 0.4\n",
    "plt.bar(index2, price_pred[1], width = width, color = 'red')\n",
    "plt.xlabel(\"Various ML Algos used\",fontsize = 12)\n",
    "plt.ylabel(\"Percentage Accuracy for Algos\", fontsize = 12)\n",
    "plt.xticks(index2, price_pred[0])\n",
    "plt.yticks(np.arange(0,100, step = 10))\n",
    "plt.title('% Accuracy of Various ML Algos in predicting the quality of wine', fontsize = 15)\n",
    "plt.show()"
   ]
  },
  {
   "cell_type": "markdown",
   "metadata": {
    "_uuid": "ee68c9aec932170eff6e4b2d64ae804b063f5421"
   },
   "source": [
    ">  ## Result Analysis "
   ]
  },
  {
   "cell_type": "markdown",
   "metadata": {
    "_uuid": "2770aa7412125e34258ddc883f64652f16bfe00c"
   },
   "source": [
    "<p> The output of this analysis is that when we are predicting quality the best out of all is SVM Linear Approach with more than 65% accuracy.  KNN with 7 Neighbors is closer to it and can be our second bet. And then we have th 3 Neighbours KNN with accuracy of 62%. But The others including SVM Gaussian and Linear Naive Bayes have lesser accuracy of around 55-58%.\n",
    "    So the preferred approach will be SVM Linear Approach</p>\n",
    "   \n",
    "  \n",
    "  <p>The output of the 2nd  analysis is that when we are predicting price the best out of all is Naive Bayes Multinomial with accuracy going to 40%. And then there is SVM Linear Approach around 39% accuracy and third choice among these will be KNN with  7 Neighbors. But others have the accuracy of around30-32%. But the problem here is the accuracy for the best approach is also 40% around which is way too less to be reliable enough and we can't support data on these methods. So there can be various other techniques also that can be applied to it for better results like Neural Networks. and its various Forms  But amongst these for price  prediction our best bet will be Naive Bayes Multinomial Apporach</p>"
   ]
  },
  {
   "cell_type": "code",
   "execution_count": null,
   "metadata": {
    "_uuid": "aae4c1e6f59c7e385cc36678d59fafa509bd3601"
   },
   "outputs": [],
   "source": []
  }
 ],
 "metadata": {
  "kernelspec": {
   "display_name": "Python 3",
   "language": "python",
   "name": "python3"
  },
  "language_info": {
   "codemirror_mode": {
    "name": "ipython",
    "version": 3
   },
   "file_extension": ".py",
   "mimetype": "text/x-python",
   "name": "python",
   "nbconvert_exporter": "python",
   "pygments_lexer": "ipython3",
   "version": "3.6.8"
  }
 },
 "nbformat": 4,
 "nbformat_minor": 1
}
